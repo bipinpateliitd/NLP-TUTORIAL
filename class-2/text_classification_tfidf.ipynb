{
 "cells": [
  {
   "cell_type": "code",
   "execution_count": 1,
   "id": "e7786500",
   "metadata": {},
   "outputs": [],
   "source": [
    "from sklearn.feature_extraction.text import TfidfVectorizer\n",
    "from sklearn.naive_bayes import MultinomialNB\n",
    "from sklearn.model_selection import train_test_split\n",
    "from sklearn.metrics import classification_report, accuracy_score\n",
    "import pandas as pd\n",
    "\n",
    "# 1. Sample dataset (6 docs, 3 classes)\n",
    "data = {\n",
    "    'Text': [\n",
    "        \"Machine learning is amazing\",                             # class 0\n",
    "        \"Deep learning is a branch of machine learning\",           # class 0\n",
    "        \"Supervised learning is very powerful\",                    # class 0\n",
    "        \"Natural language processing is part of AI\",               # class 1\n",
    "        \"Language models are important in NLP tasks\",              # class 1\n",
    "        \"Transformers changed the field of natural language\"       # class 1\n",
    "    ],\n",
    "    'Label': [0, 0, 0, 1, 1, 1]  # 0 = ML, 1 = NLP\n",
    "}\n",
    "\n",
    "df = pd.DataFrame(data)\n",
    "\n",
    "# 2. Preprocessing function (optional in this case — lowercase & remove punctuation)\n",
    "def clean_text(text):\n",
    "    import string\n",
    "    text = text.lower()\n",
    "    for ch in string.punctuation:\n",
    "        text = text.replace(ch, '')\n",
    "    return text\n",
    "\n",
    "df['clean_text'] = df['Text'].apply(clean_text)\n",
    "\n",
    "# 3. TF-IDF Vectorization\n",
    "vectorizer = TfidfVectorizer(stop_words='english')\n",
    "X = vectorizer.fit_transform(df['clean_text'])\n",
    "\n"
   ]
  },
  {
   "cell_type": "code",
   "execution_count": 2,
   "id": "522f4c52",
   "metadata": {},
   "outputs": [
    {
     "name": "stdout",
     "output_type": "stream",
     "text": [
      "         ai   amazing   branch   changed     deep     field  important  \\\n",
      "0  0.000000  0.681722  0.00000  0.000000  0.00000  0.000000   0.000000   \n",
      "1  0.000000  0.000000  0.46678  0.000000  0.46678  0.000000   0.000000   \n",
      "2  0.000000  0.000000  0.00000  0.000000  0.00000  0.000000   0.000000   \n",
      "3  0.563282  0.000000  0.00000  0.000000  0.00000  0.000000   0.000000   \n",
      "4  0.000000  0.000000  0.00000  0.000000  0.00000  0.000000   0.472493   \n",
      "5  0.000000  0.000000  0.00000  0.490779  0.00000  0.490779   0.000000   \n",
      "\n",
      "   language  learning   machine    models   natural       nlp  powerful  \\\n",
      "0  0.000000  0.471964  0.559022  0.000000  0.000000  0.000000  0.000000   \n",
      "1  0.000000  0.646315  0.382766  0.000000  0.000000  0.000000  0.000000   \n",
      "2  0.000000  0.439681  0.000000  0.000000  0.000000  0.000000  0.635091   \n",
      "3  0.389967  0.000000  0.000000  0.000000  0.461900  0.000000  0.000000   \n",
      "4  0.327113  0.000000  0.000000  0.472493  0.000000  0.472493  0.000000   \n",
      "5  0.339772  0.000000  0.000000  0.000000  0.402446  0.000000  0.000000   \n",
      "\n",
      "   processing  supervised     tasks  transformers  \n",
      "0    0.000000    0.000000  0.000000      0.000000  \n",
      "1    0.000000    0.000000  0.000000      0.000000  \n",
      "2    0.000000    0.635091  0.000000      0.000000  \n",
      "3    0.563282    0.000000  0.000000      0.000000  \n",
      "4    0.000000    0.000000  0.472493      0.000000  \n",
      "5    0.000000    0.000000  0.000000      0.490779  \n"
     ]
    }
   ],
   "source": [
    "feature_names = vectorizer.get_feature_names_out()\n",
    "\n",
    "# Convert TF-IDF matrix (sparse) to array\n",
    "X_array = X.toarray()\n",
    "\n",
    "# Create a DataFrame from TF-IDF matrix\n",
    "tfidf_df = pd.DataFrame(X_array, columns=feature_names)\n",
    "\n",
    "# Display it\n",
    "print(tfidf_df)"
   ]
  },
  {
   "cell_type": "code",
   "execution_count": null,
   "id": "c3c06094",
   "metadata": {},
   "outputs": [],
   "source": []
  },
  {
   "cell_type": "code",
   "execution_count": 3,
   "id": "143547ff",
   "metadata": {},
   "outputs": [
    {
     "name": "stdout",
     "output_type": "stream",
     "text": [
      "Accuracy: 1.0\n",
      "\n",
      "Classification Report:\n",
      "               precision    recall  f1-score   support\n",
      "\n",
      "          ML       1.00      1.00      1.00         1\n",
      "         NLP       1.00      1.00      1.00         1\n",
      "\n",
      "    accuracy                           1.00         2\n",
      "   macro avg       1.00      1.00      1.00         2\n",
      "weighted avg       1.00      1.00      1.00         2\n",
      "\n"
     ]
    }
   ],
   "source": [
    "y = df['Label']\n",
    "\n",
    "# 5. Split into train/test\n",
    "X_train, X_test, y_train, y_test = train_test_split(\n",
    "    X, y, test_size=0.3, random_state=42, stratify=y\n",
    ")\n",
    "\n",
    "# 6. Train Naive Bayes model\n",
    "model = MultinomialNB()\n",
    "model.fit(X_train, y_train)\n",
    "\n",
    "# 7. Predict and evaluate\n",
    "y_pred = model.predict(X_test)\n",
    "\n",
    "print(\"Accuracy:\", accuracy_score(y_test, y_pred))\n",
    "print(\"\\nClassification Report:\\n\", classification_report(y_test, y_pred, target_names=[\"ML\", \"NLP\"]))"
   ]
  },
  {
   "cell_type": "code",
   "execution_count": null,
   "id": "ee252892",
   "metadata": {},
   "outputs": [],
   "source": []
  }
 ],
 "metadata": {
  "kernelspec": {
   "display_name": ".venv",
   "language": "python",
   "name": "python3"
  },
  "language_info": {
   "codemirror_mode": {
    "name": "ipython",
    "version": 3
   },
   "file_extension": ".py",
   "mimetype": "text/x-python",
   "name": "python",
   "nbconvert_exporter": "python",
   "pygments_lexer": "ipython3",
   "version": "3.12.0"
  }
 },
 "nbformat": 4,
 "nbformat_minor": 5
}
