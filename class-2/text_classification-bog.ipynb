{
 "cells": [
  {
   "cell_type": "markdown",
   "id": "dbf7d35e",
   "metadata": {},
   "source": [
    "# Import and Load the CSV"
   ]
  },
  {
   "cell_type": "code",
   "execution_count": null,
   "id": "29fe244e",
   "metadata": {},
   "outputs": [],
   "source": [
    "import pandas as pd\n",
    "df =pd.read_csv('/home/bipin/Documents/NLP-TUTORIAL/dataset/df_file.csv')\n",
    "df.head()\n",
    "#0-business, 1-entertainment, 2-politics, -3sport, 4-tech"
   ]
  },
  {
   "cell_type": "code",
   "execution_count": null,
   "id": "d309ebbd",
   "metadata": {},
   "outputs": [],
   "source": [
    "df['Text'].apply()"
   ]
  },
  {
   "cell_type": "code",
   "execution_count": null,
   "id": "d3bed139",
   "metadata": {},
   "outputs": [],
   "source": [
    "df.iloc[3,0]"
   ]
  },
  {
   "cell_type": "code",
   "execution_count": null,
   "id": "abc48283",
   "metadata": {},
   "outputs": [],
   "source": [
    "\n",
    "print(df['Label'].value_counts())"
   ]
  },
  {
   "cell_type": "code",
   "execution_count": null,
   "id": "163416f4",
   "metadata": {},
   "outputs": [],
   "source": [
    "import string\n",
    "string.punctuation"
   ]
  },
  {
   "cell_type": "markdown",
   "id": "1319cdb7",
   "metadata": {},
   "source": [
    "# Step 2: Preprocess the Text"
   ]
  },
  {
   "cell_type": "code",
   "execution_count": null,
   "id": "57b082bb",
   "metadata": {},
   "outputs": [],
   "source": [
    "import string\n",
    "\n",
    "# Function to clean text: lowercase + remove punctuation\n",
    "def clean_text(text):\n",
    "    text = text.lower()  # convert to lowercase\n",
    "    for char in string.punctuation:\n",
    "        text = text.replace(char, '')  # remove each punctuation mark\n",
    "    return text\n",
    "\n",
    "# Apply to each row in the DataFrame\n",
    "df['clean_text'] = df['Text'].apply(clean_text)"
   ]
  },
  {
   "cell_type": "markdown",
   "id": "e7806c4f",
   "metadata": {},
   "source": [
    "# Step 3: Convert Text to Numbers using Bag of Words"
   ]
  },
  {
   "cell_type": "code",
   "execution_count": null,
   "id": "265a692a",
   "metadata": {},
   "outputs": [],
   "source": [
    "from sklearn.feature_extraction.text import CountVectorizer\n",
    "\n",
    "vectorizer = CountVectorizer(max_features=3000, stop_words='english')\n",
    "X = vectorizer.fit_transform(df['clean_text'])\n",
    "\n",
    "print(\"Vocabulary size:\", len(vectorizer.vocabulary_))\n",
    "print(\"Sample BoW vector:\\n\", X[0].toarray())"
   ]
  },
  {
   "cell_type": "code",
   "execution_count": null,
   "id": "a795b0d8",
   "metadata": {},
   "outputs": [],
   "source": [
    "X.shape"
   ]
  },
  {
   "cell_type": "markdown",
   "id": "3935d80e",
   "metadata": {},
   "source": [
    " # Step 4: Prepare Labels and Split Data"
   ]
  },
  {
   "cell_type": "code",
   "execution_count": null,
   "id": "78369df8",
   "metadata": {},
   "outputs": [],
   "source": [
    "from sklearn.model_selection import train_test_split\n",
    "\n",
    "y = df['Label']  # Already numeric (0 to 4)\n",
    "\n",
    "X_train, X_test, y_train, y_test = train_test_split(\n",
    "    X, y, test_size=0.3, random_state=42, stratify=y  # keeps class balance\n",
    ")"
   ]
  },
  {
   "cell_type": "code",
   "execution_count": null,
   "id": "a6cfa157",
   "metadata": {},
   "outputs": [],
   "source": [
    "X_train.shape, X_test.shape"
   ]
  },
  {
   "cell_type": "markdown",
   "id": "ab277831",
   "metadata": {
    "vscode": {
     "languageId": "latex"
    }
   },
   "source": [
    "# Step 5: Train a Classifier"
   ]
  },
  {
   "cell_type": "code",
   "execution_count": null,
   "id": "df2f7042",
   "metadata": {},
   "outputs": [],
   "source": [
    "from sklearn.naive_bayes import MultinomialNB\n",
    "\n",
    "model = MultinomialNB()\n",
    "model.fit(X_train, y_train)"
   ]
  },
  {
   "cell_type": "markdown",
   "id": "60e58050",
   "metadata": {},
   "source": [
    "# Step 6: Predict and Evaluate"
   ]
  },
  {
   "cell_type": "code",
   "execution_count": null,
   "id": "b25cf2e7",
   "metadata": {},
   "outputs": [],
   "source": [
    "from sklearn.metrics import accuracy_score, classification_report\n",
    "\n",
    "y_pred = model.predict(X_test)\n",
    "\n",
    "print(\"Accuracy:\", accuracy_score(y_test, y_pred))\n",
    "print(\"Classification Report:\\n\", classification_report(y_test, y_pred))"
   ]
  },
  {
   "cell_type": "code",
   "execution_count": null,
   "id": "bd863e23",
   "metadata": {},
   "outputs": [],
   "source": [
    "from sklearn.metrics import confusion_matrix, ConfusionMatrixDisplay\n",
    "import matplotlib.pyplot as plt\n",
    "\n",
    "# Generate the confusion matrix\n",
    "cm = confusion_matrix(y_test, y_pred)\n",
    "\n",
    "# Display it\n",
    "disp = ConfusionMatrixDisplay(confusion_matrix=cm, display_labels=[0,1,2,3,4])\n",
    "disp.plot(cmap='Blues', xticks_rotation=45)\n",
    "plt.title(\"Confusion Matrix\")\n",
    "plt.show()\n"
   ]
  },
  {
   "cell_type": "code",
   "execution_count": null,
   "id": "f37aa259",
   "metadata": {},
   "outputs": [],
   "source": [
    "# 1. New sentence\n",
    "new_sentence = \"I loveto  do buisness\"\n",
    "\n",
    "# 2. Preprocess\n",
    "cleaned = clean_text(new_sentence)\n",
    "\n",
    "# 3. Vectorize (BoW)\n",
    "X_new = vectorizer.transform([cleaned])\n",
    "\n",
    "# 4. Predict\n",
    "pred = model.predict(X_new)[0]\n",
    "\n",
    "# 5. Map label number to category\n",
    "label_map = {0: \"business\", 1: \"entertainment\", 2: \"sport\", 3: \"politics\", 4: \"tech\"}\n",
    "print(\"Predicted Category:\", label_map[pred])"
   ]
  },
  {
   "cell_type": "code",
   "execution_count": null,
   "id": "0949887a",
   "metadata": {},
   "outputs": [],
   "source": [
    "import joblib\n",
    "\n",
    "# Save the trained model\n",
    "joblib.dump(model, 'text_classifier_model.pkl')\n",
    "\n",
    "# Save the fitted CountVectorizer\n",
    "joblib.dump(vectorizer, 'bow_vectorizer.pkl')\n"
   ]
  },
  {
   "cell_type": "code",
   "execution_count": null,
   "id": "0462f4a9",
   "metadata": {},
   "outputs": [],
   "source": []
  },
  {
   "cell_type": "code",
   "execution_count": 1,
   "id": "3836cb89",
   "metadata": {},
   "outputs": [],
   "source": [
    "import joblib\n",
    "model = joblib.load('text_classifier_model.pkl')\n",
    "vectorizer = joblib.load('bow_vectorizer.pkl')"
   ]
  },
  {
   "cell_type": "code",
   "execution_count": 2,
   "id": "23282f61",
   "metadata": {},
   "outputs": [
    {
     "name": "stdout",
     "output_type": "stream",
     "text": [
      "Predicted Category: business\n"
     ]
    }
   ],
   "source": [
    "new_sentence = \"The prime minister gave a speech on economy.\"\n",
    "cleaned = new_sentence \n",
    "X_new = vectorizer.transform([cleaned])\n",
    "pred = model.predict(X_new)[0]\n",
    "\n",
    "label_map = {0: \"business\", 1: \"entertainment\", 2: \"sport\", 3: \"politics\", 4: \"tech\"}\n",
    "print(\"Predicted Category:\", label_map[pred])"
   ]
  },
  {
   "cell_type": "code",
   "execution_count": null,
   "id": "d7dc9bbb",
   "metadata": {},
   "outputs": [],
   "source": []
  }
 ],
 "metadata": {
  "kernelspec": {
   "display_name": ".venv",
   "language": "python",
   "name": "python3"
  },
  "language_info": {
   "codemirror_mode": {
    "name": "ipython",
    "version": 3
   },
   "file_extension": ".py",
   "mimetype": "text/x-python",
   "name": "python",
   "nbconvert_exporter": "python",
   "pygments_lexer": "ipython3",
   "version": "3.12.0"
  }
 },
 "nbformat": 4,
 "nbformat_minor": 5
}
