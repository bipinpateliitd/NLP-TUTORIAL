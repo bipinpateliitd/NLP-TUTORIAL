{
 "cells": [
  {
   "cell_type": "code",
   "execution_count": null,
   "id": "93b9542a",
   "metadata": {},
   "outputs": [],
   "source": [
    "import re\n",
    "text1 = \"User123 logged in at 10:45 p.m. on 01/05/2025.\"\n",
    "text2 = \"Total cost: ₹1,250.50 — paid via UPI @paytm!\"\n",
    "text3 = \"Contact: john_doe91@example.com or +91-9876543210.\"\n",
    "text4 = \"Filename: report_final_v2.3.1-beta.pdf\"\n",
    "text5 = \"Warning! Access denied: Error#403 (Unauthorized).\"\n",
    "text6 = \"She said: 'Hello there :)', and walked away...\"\n",
    "text7 = \"New passwords must contain at least 1 number, 1 capital letter, and 1 special character (!@#$%).\"\n",
    "text8 = \"Cart: 3x 🍎, 2x 🥛, 1x 🧀 — Total: $12.75\"\n",
    "text9 = \"Coordinates: X=192.45, Y=-76.20; Z=0.00\"\n",
    "text10 = \"\\tIndented line with newline\\nand special symbols like ^, *, &, and ~.\"\n"
   ]
  },
  {
   "cell_type": "markdown",
   "id": "3d2f1b99",
   "metadata": {},
   "source": [
    "#\n",
    "^ (start of string/line)\n",
    "\n",
    "$ (end of string/line)\n",
    "\n",
    "\\b (word boundary)\n",
    "\n",
    "\\B (not a word boundary)\n",
    "\n"
   ]
  },
  {
   "cell_type": "code",
   "execution_count": null,
   "id": "4fccf84c",
   "metadata": {},
   "outputs": [
    {
     "data": {
      "text/plain": [
       "['U']"
      ]
     },
     "execution_count": 8,
     "metadata": {},
     "output_type": "execute_result"
    }
   ],
   "source": [
    "text1 = \"User123 logged in at 10:45 p.m. on 01/05/2025.\"\n",
    "ptr1 = r\"^U\"\n",
    "match = re.findall(ptr1,text1)\n",
    "match"
   ]
  },
  {
   "cell_type": "code",
   "execution_count": 9,
   "id": "1758cd52",
   "metadata": {},
   "outputs": [
    {
     "data": {
      "text/plain": [
       "['2025.']"
      ]
     },
     "execution_count": 9,
     "metadata": {},
     "output_type": "execute_result"
    }
   ],
   "source": [
    "ptr2=r\"2025\\.$\"\n",
    "match = re.findall(ptr2,text1)\n",
    "match"
   ]
  },
  {
   "cell_type": "code",
   "execution_count": 12,
   "id": "5d6b7e4a",
   "metadata": {},
   "outputs": [
    {
     "data": {
      "text/plain": [
       "['paytm']"
      ]
     },
     "execution_count": 12,
     "metadata": {},
     "output_type": "execute_result"
    }
   ],
   "source": [
    "text2 = \"Total cost: ₹1,250.50 — paid via UPI @paytm!\"\n",
    "ptr3=r\"\\bpaytm\\b\"\n",
    "match = re.findall(ptr3,text2)\n",
    "match"
   ]
  },
  {
   "cell_type": "code",
   "execution_count": 13,
   "id": "dc365435",
   "metadata": {},
   "outputs": [
    {
     "data": {
      "text/plain": [
       "['ing']"
      ]
     },
     "execution_count": 13,
     "metadata": {},
     "output_type": "execute_result"
    }
   ],
   "source": [
    "text5 = \"Warning! Access denied: Error#403 (Unauthorized).\"\n",
    "ptr4 = r\"\\Bing\" \n",
    "match = re.findall(ptr4,text5)\n",
    "match"
   ]
  },
  {
   "cell_type": "code",
   "execution_count": null,
   "id": "29730095",
   "metadata": {},
   "outputs": [],
   "source": []
  }
 ],
 "metadata": {
  "kernelspec": {
   "display_name": ".venv",
   "language": "python",
   "name": "python3"
  },
  "language_info": {
   "codemirror_mode": {
    "name": "ipython",
    "version": 3
   },
   "file_extension": ".py",
   "mimetype": "text/x-python",
   "name": "python",
   "nbconvert_exporter": "python",
   "pygments_lexer": "ipython3",
   "version": "3.12.0"
  }
 },
 "nbformat": 4,
 "nbformat_minor": 5
}
