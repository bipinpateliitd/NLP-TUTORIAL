{
 "cells": [
  {
   "cell_type": "code",
   "execution_count": 1,
   "id": "a2a0b844",
   "metadata": {},
   "outputs": [
    {
     "name": "stdout",
     "output_type": "stream",
     "text": [
      "True\n"
     ]
    }
   ],
   "source": [
    "import re\n",
    "\n",
    "text = \"Hello World\"\n",
    "pattern =r\"hello\"\n",
    "match = re.search(pattern, text, re.IGNORECASE)\n",
    "print(bool(match))  # True\n"
   ]
  },
  {
   "cell_type": "code",
   "execution_count": 2,
   "id": "f3d0223c",
   "metadata": {},
   "outputs": [
    {
     "name": "stdout",
     "output_type": "stream",
     "text": [
      "['Line', 'Line']\n"
     ]
    }
   ],
   "source": [
    "text = \"Line1\\nLine2\"\n",
    "pattern =r\"^Line\"\n",
    "matches = re.findall(r\"^Line\", text, re.MULTILINE)\n",
    "print(matches)  # ['Line1', 'Line2']\n"
   ]
  },
  {
   "cell_type": "code",
   "execution_count": 3,
   "id": "5d6de39b",
   "metadata": {},
   "outputs": [
    {
     "name": "stdout",
     "output_type": "stream",
     "text": [
      "Hello\n",
      "World\n"
     ]
    }
   ],
   "source": [
    "text = \"Hello\\nWorld\"\n",
    "\n",
    "match = re.search(r\"Hello.*World\", text)         # None\n",
    "match_dotall = re.search(r\"Hello.*World\", text, re.DOTALL)\n",
    "print(match_dotall.group())  # Hello\\nWorld\n"
   ]
  },
  {
   "cell_type": "code",
   "execution_count": null,
   "id": "8be5cf33",
   "metadata": {},
   "outputs": [],
   "source": []
  }
 ],
 "metadata": {
  "kernelspec": {
   "display_name": ".venv",
   "language": "python",
   "name": "python3"
  },
  "language_info": {
   "codemirror_mode": {
    "name": "ipython",
    "version": 3
   },
   "file_extension": ".py",
   "mimetype": "text/x-python",
   "name": "python",
   "nbconvert_exporter": "python",
   "pygments_lexer": "ipython3",
   "version": "3.12.0"
  }
 },
 "nbformat": 4,
 "nbformat_minor": 5
}
