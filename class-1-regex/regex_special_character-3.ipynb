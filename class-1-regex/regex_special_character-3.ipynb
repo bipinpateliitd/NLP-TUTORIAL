{
 "cells": [
  {
   "cell_type": "code",
   "execution_count": 1,
   "id": "54d761b1",
   "metadata": {},
   "outputs": [],
   "source": [
    "# Symbol\tMeaning\tExample\tExplanation\n",
    "# +\tOne or more of the preceding element\ta+\tMatches \"a\", \"aa\", \"aaa\", etc.\n",
    "# *\tZero or more of the preceding element\ta*\tMatches \"\", \"a\", \"aaa\", etc.\n",
    "# ?\tZero or one of the preceding element\ta?\tMatches \"\" or \"a\" (makes quantifiers lazy when placed after them)\n",
    "# ^\tStart of string or line\t^Hello\tMatches \"Hello\" only if it is at the beginning of the string\n",
    "# $\tEnd of string or line\tworld$\tMatches \"world\" only if it is at the end of the string\n",
    "# \\\tEscape character\t\\.\tMatches a literal dot instead of \"any character\"\n",
    "# .\tAny character except newline\ta.b\tMatches \"a_b\", \"a1b\", but not \"ab\" or \"a\\nb\"\n",
    "#[] Character set\t[aeiou]\tMatches any vowel\n",
    "#[^]\tNegated character set\t[^0-9]\tMatches any character that is not a digit\n",
    "#{}\tQuantifier for exact/repeat range\ta{2,4}\tMatches \"aa\", \"aaa\", or \"aaaa\"\n",
    "#()\tGrouping or capturing\t(abc)+\tTreats abc as a group, repeats it"
   ]
  },
  {
   "cell_type": "code",
   "execution_count": null,
   "id": "cb6a89aa",
   "metadata": {},
   "outputs": [],
   "source": []
  }
 ],
 "metadata": {
  "kernelspec": {
   "display_name": ".venv",
   "language": "python",
   "name": "python3"
  },
  "language_info": {
   "codemirror_mode": {
    "name": "ipython",
    "version": 3
   },
   "file_extension": ".py",
   "mimetype": "text/x-python",
   "name": "python",
   "nbconvert_exporter": "python",
   "pygments_lexer": "ipython3",
   "version": "3.12.0"
  }
 },
 "nbformat": 4,
 "nbformat_minor": 5
}
