{
 "cells": [
  {
   "cell_type": "code",
   "execution_count": 1,
   "id": "22e40a3e",
   "metadata": {},
   "outputs": [],
   "source": [
    "import re"
   ]
  },
  {
   "cell_type": "code",
   "execution_count": 3,
   "id": "559c0ff2",
   "metadata": {},
   "outputs": [
    {
     "data": {
      "text/plain": [
       "['Ex']"
      ]
     },
     "execution_count": 3,
     "metadata": {},
     "output_type": "execute_result"
    }
   ],
   "source": [
    "#(abc)\n",
    "\n",
    "text =\"RegExr was created by gskinner.com.\"\n",
    "ptr1 =r\"(Ex)\"\n",
    "match1 =re.findall(ptr1, text)\n",
    "match1\n"
   ]
  },
  {
   "cell_type": "code",
   "execution_count": null,
   "id": "8d095583",
   "metadata": {},
   "outputs": [
    {
     "name": "stdout",
     "output_type": "stream",
     "text": [
      "['dog']\n",
      "['dogdog']\n"
     ]
    }
   ],
   "source": [
    "\n",
    "\n",
    "text = \"dogdog\"\n",
    "\n",
    "pattern1=r\"(dog)+\"\n",
    "\n",
    "pattern2 =r\"(?:dog)+\"\n",
    "\n",
    "# Capturing group version\n",
    "match1 = re.findall(pattern1, text)\n",
    "print(match1)  # ['dog'] → Captures only last occurrence of 'dog'\n",
    "\n",
    "# Non-capturing group version\n",
    "match2 = re.findall(pattern2, text)\n",
    "print(match2)  # ['dogdog'] → Matches full pattern, no subgroup\n"
   ]
  },
  {
   "cell_type": "code",
   "execution_count": 9,
   "id": "3f21ca55",
   "metadata": {},
   "outputs": [
    {
     "data": {
      "text/plain": [
       "['Mr', 'Mrs']"
      ]
     },
     "execution_count": 9,
     "metadata": {},
     "output_type": "execute_result"
    }
   ],
   "source": [
    "import re\n",
    "\n",
    "text = \"Mr. John, Mrs. Jane\"\n",
    "\n",
    "# Capturing group\n",
    "re.findall(r\"(Mr|Mrs)\\. \\w+\", text)  \n",
    "# Output: ['Mr', 'Mrs']  → only shows captured group\n",
    "\n",
    "\n"
   ]
  },
  {
   "cell_type": "code",
   "execution_count": 10,
   "id": "2bc5cd6e",
   "metadata": {},
   "outputs": [
    {
     "data": {
      "text/plain": [
       "['Mr. John', 'Mrs. Jane']"
      ]
     },
     "execution_count": 10,
     "metadata": {},
     "output_type": "execute_result"
    }
   ],
   "source": [
    "# Non-capturing group\n",
    "re.findall(r\"(?:Mr|Mrs)\\. \\w+\", text)  \n",
    "# Output: ['Mr. John', 'Mrs. Jane']  → full match, cleaner"
   ]
  },
  {
   "cell_type": "code",
   "execution_count": null,
   "id": "ce2a5ecf",
   "metadata": {},
   "outputs": [
    {
     "name": "stdout",
     "output_type": "stream",
     "text": [
      "Username: rohit.kumar\n",
      "Domain: example.com\n"
     ]
    }
   ],
   "source": [
    "text = \"Contact me at rohit.kumar@example.com\"\n",
    "\n",
    "pattern = r\"(?P<username>[a-zA-Z0-9._%+-]+)@(?P<domain>[a-zA-Z0-9.-]+\\.[a-zA-Z]{2,})\"\n",
    "\n",
    "match = re.search(pattern, text)\n",
    "\n",
    "if match:\n",
    "    print(\"Username:\", match.group(\"username\"))  # rohit.kumar\n",
    "    print(\"Domain:\", match.group(\"domain\"))      # example.com"
   ]
  },
  {
   "cell_type": "code",
   "execution_count": 8,
   "id": "56751750",
   "metadata": {},
   "outputs": [
    {
     "data": {
      "text/plain": [
       "['\\n']"
      ]
     },
     "execution_count": 8,
     "metadata": {},
     "output_type": "execute_result"
    }
   ],
   "source": [
    "ptr =r\"\\n\"\n",
    "text = \"\"\"Iam bipin \\n This is good\"\"\"\n",
    "match = re.findall(ptr, text)\n",
    "match"
   ]
  },
  {
   "cell_type": "code",
   "execution_count": null,
   "id": "f066c201",
   "metadata": {},
   "outputs": [],
   "source": []
  }
 ],
 "metadata": {
  "kernelspec": {
   "display_name": ".venv",
   "language": "python",
   "name": "python3"
  },
  "language_info": {
   "codemirror_mode": {
    "name": "ipython",
    "version": 3
   },
   "file_extension": ".py",
   "mimetype": "text/x-python",
   "name": "python",
   "nbconvert_exporter": "python",
   "pygments_lexer": "ipython3",
   "version": "3.12.0"
  }
 },
 "nbformat": 4,
 "nbformat_minor": 5
}
