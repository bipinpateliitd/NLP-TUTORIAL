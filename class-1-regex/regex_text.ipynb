{
 "cells": [
  {
   "cell_type": "code",
   "execution_count": 1,
   "id": "393548b5",
   "metadata": {},
   "outputs": [],
   "source": [
    "text1 = \"User123 logged in at 10:45 p.m. on 01/05/2025.\"\n",
    "text2 = \"Total cost: ₹1,250.50 — paid via UPI @paytm!\"\n",
    "text3 = \"Contact: john_doe91@example.com or +91-9876543210.\"\n",
    "text4 = \"Filename: report_final_v2.3.1-beta.pdf\"\n",
    "text5 = \"Warning! Access denied: Error#403 (Unauthorized).\"\n",
    "text6 = \"She said: 'Hello there :)', and walked away...\"\n",
    "text7 = \"New passwords must contain at least 1 number, 1 capital letter, and 1 special character (!@#$%).\"\n",
    "text8 = \"Cart: 3x 🍎, 2x 🥛, 1x 🧀 — Total: $12.75\"\n",
    "text9 = \"Coordinates: X=192.45, Y=-76.20; Z=0.00\"\n",
    "text10 = \"\\tIndented line with newline\\nand special symbols like ^, *, &, and ~.\"\n"
   ]
  },
  {
   "cell_type": "code",
   "execution_count": null,
   "id": "600be5de",
   "metadata": {},
   "outputs": [],
   "source": []
  }
 ],
 "metadata": {
  "kernelspec": {
   "display_name": ".venv",
   "language": "python",
   "name": "python3"
  },
  "language_info": {
   "codemirror_mode": {
    "name": "ipython",
    "version": 3
   },
   "file_extension": ".py",
   "mimetype": "text/x-python",
   "name": "python",
   "nbconvert_exporter": "python",
   "pygments_lexer": "ipython3",
   "version": "3.12.0"
  }
 },
 "nbformat": 4,
 "nbformat_minor": 5
}
