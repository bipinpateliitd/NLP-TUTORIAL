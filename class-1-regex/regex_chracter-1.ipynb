{
 "cells": [
  {
   "cell_type": "code",
   "execution_count": null,
   "id": "80943fa6",
   "metadata": {},
   "outputs": [],
   "source": [
    "text1 = \"User123 logged in at 10:45 p.m. on 01/05/2025.\"\n",
    "text2 = \"Total cost: ₹1,250.50 — paid via UPI @paytm!\"\n",
    "text3 = \"Contact: john_doe91@example.com or +91-9876543210.\"\n",
    "text4 = \"Filename: report_final_v2.3.1-beta.pdf\"\n",
    "text5 = \"Warning! Access denied: Error#403 (Unauthorized).\"\n",
    "text6 = \"She said: 'Hello there :)', and walked away...\"\n",
    "text7 = \"New passwords must contain at least 1 number, 1 capital letter, and 1 special character (!@#$%).\"\n",
    "text8 = \"Cart: 3x 🍎, 2x 🥛, 1x 🧀 — Total: $12.75\"\n",
    "text9 = \"Coordinates: X=192.45, Y=-76.20; Z=0.00\"\n",
    "text10 = \"\\tIndented line with newline\\nand special symbols like ^, *, &, and ~.\"\n"
   ]
  },
  {
   "cell_type": "code",
   "execution_count": 11,
   "id": "2c57bdda",
   "metadata": {},
   "outputs": [],
   "source": [
    "import re"
   ]
  },
  {
   "cell_type": "code",
   "execution_count": 12,
   "id": "b628ba7c",
   "metadata": {},
   "outputs": [
    {
     "data": {
      "text/plain": [
       "['e', 'o', 'e', 'i', 'a', 'o']"
      ]
     },
     "execution_count": 12,
     "metadata": {},
     "output_type": "execute_result"
    }
   ],
   "source": [
    "text1 = \"User123 logged in at 10:45 p.m. on 01/05/2025.\"\n",
    "pattern1 = r\"[aeiou]\"\n",
    "match = re.findall(pattern1,text1)\n",
    "match"
   ]
  },
  {
   "cell_type": "code",
   "execution_count": 7,
   "id": "fc32dce1",
   "metadata": {},
   "outputs": [
    {
     "data": {
      "text/plain": [
       "['U',\n",
       " 's',\n",
       " 'r',\n",
       " '1',\n",
       " '2',\n",
       " '3',\n",
       " ' ',\n",
       " 'l',\n",
       " 'g',\n",
       " 'g',\n",
       " 'd',\n",
       " ' ',\n",
       " 'n',\n",
       " ' ',\n",
       " 't',\n",
       " ' ',\n",
       " '1',\n",
       " '0',\n",
       " ':',\n",
       " '4',\n",
       " '5',\n",
       " ' ',\n",
       " 'p',\n",
       " '.',\n",
       " 'm',\n",
       " '.',\n",
       " ' ',\n",
       " 'n',\n",
       " ' ',\n",
       " '0',\n",
       " '1',\n",
       " '/',\n",
       " '0',\n",
       " '5',\n",
       " '/',\n",
       " '2',\n",
       " '0',\n",
       " '2',\n",
       " '5',\n",
       " '.']"
      ]
     },
     "execution_count": 7,
     "metadata": {},
     "output_type": "execute_result"
    }
   ],
   "source": [
    "text2 = \"Total cost: ₹1,250.50 — paid via UPI @paytm!\"\n",
    "pattern2 = r\"[^aeiou]\"\n",
    "match = re.findall(pattern2,text1)\n",
    "match"
   ]
  },
  {
   "cell_type": "code",
   "execution_count": 9,
   "id": "02de9b13",
   "metadata": {},
   "outputs": [
    {
     "data": {
      "text/plain": [
       "['C',\n",
       " 'o',\n",
       " 'n',\n",
       " 't',\n",
       " 'a',\n",
       " 'c',\n",
       " 't',\n",
       " 'j',\n",
       " 'o',\n",
       " 'h',\n",
       " 'n',\n",
       " 'd',\n",
       " 'o',\n",
       " 'e',\n",
       " '9',\n",
       " '1',\n",
       " 'e',\n",
       " 'x',\n",
       " 'a',\n",
       " 'm',\n",
       " 'p',\n",
       " 'l',\n",
       " 'e',\n",
       " 'c',\n",
       " 'o',\n",
       " 'm',\n",
       " 'o',\n",
       " 'r',\n",
       " '9',\n",
       " '1',\n",
       " '9',\n",
       " '8',\n",
       " '7',\n",
       " '6',\n",
       " '5',\n",
       " '4',\n",
       " '3',\n",
       " '2',\n",
       " '1',\n",
       " '0']"
      ]
     },
     "execution_count": 9,
     "metadata": {},
     "output_type": "execute_result"
    }
   ],
   "source": [
    "text3 = \"Contact: john_doe91@example.com or +91-9876543210.\"\n",
    "pattern3 = r\"[a-zA-Z0-9]\"\n",
    "match = re.findall(pattern3,text3)\n",
    "match\n"
   ]
  },
  {
   "cell_type": "code",
   "execution_count": 10,
   "id": "072925cd",
   "metadata": {},
   "outputs": [
    {
     "data": {
      "text/plain": [
       "['C',\n",
       " 'o',\n",
       " 'n',\n",
       " 't',\n",
       " 'a',\n",
       " 'c',\n",
       " 't',\n",
       " ':',\n",
       " ' ',\n",
       " 'j',\n",
       " 'o',\n",
       " 'h',\n",
       " 'n',\n",
       " '_',\n",
       " 'd',\n",
       " 'o',\n",
       " 'e',\n",
       " '9',\n",
       " '1',\n",
       " '@',\n",
       " 'e',\n",
       " 'x',\n",
       " 'a',\n",
       " 'm',\n",
       " 'p',\n",
       " 'l',\n",
       " 'e',\n",
       " '.',\n",
       " 'c',\n",
       " 'o',\n",
       " 'm',\n",
       " ' ',\n",
       " 'o',\n",
       " 'r',\n",
       " ' ',\n",
       " '+',\n",
       " '9',\n",
       " '1',\n",
       " '-',\n",
       " '9',\n",
       " '8',\n",
       " '7',\n",
       " '6',\n",
       " '5',\n",
       " '4',\n",
       " '3',\n",
       " '2',\n",
       " '1',\n",
       " '0',\n",
       " '.']"
      ]
     },
     "execution_count": 10,
     "metadata": {},
     "output_type": "execute_result"
    }
   ],
   "source": [
    "pattern4 = r\".\"\n",
    "match = re.findall(pattern4,text3)\n",
    "match"
   ]
  },
  {
   "cell_type": "code",
   "execution_count": null,
   "id": "b8483510",
   "metadata": {},
   "outputs": [],
   "source": [
    "pattern4 = r\"w\"\n"
   ]
  }
 ],
 "metadata": {
  "kernelspec": {
   "display_name": ".venv",
   "language": "python",
   "name": "python3"
  },
  "language_info": {
   "codemirror_mode": {
    "name": "ipython",
    "version": 3
   },
   "file_extension": ".py",
   "mimetype": "text/x-python",
   "name": "python",
   "nbconvert_exporter": "python",
   "pygments_lexer": "ipython3",
   "version": "3.12.0"
  }
 },
 "nbformat": 4,
 "nbformat_minor": 5
}
