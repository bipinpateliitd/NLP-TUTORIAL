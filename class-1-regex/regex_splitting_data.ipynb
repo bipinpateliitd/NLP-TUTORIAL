{
 "cells": [
  {
   "cell_type": "code",
   "execution_count": 1,
   "id": "214c39e3",
   "metadata": {},
   "outputs": [],
   "source": [
    "import re"
   ]
  },
  {
   "cell_type": "code",
   "execution_count": 7,
   "id": "2bcc7fd0",
   "metadata": {},
   "outputs": [
    {
     "name": "stdout",
     "output_type": "stream",
     "text": [
      "this Sanhita unless the context otherwise requires,\n",
      "\n",
      " \t\n",
      "\n",
      " '“act” as well a series of acts is a single act;\n",
      "\n",
      " '“animal” means any living creature, other than a human being;\n",
      "\n",
      " '“counterfeit”. A person is said to “counterfeit” who causes one thing to\n"
     ]
    }
   ],
   "source": [
    "text = \"\"\"this Sanhita unless the context otherwise requires,\\n\n",
    " \\t\\n\n",
    " '“act” as well a series of acts is a single act;\\n\n",
    " '“animal” means any living creature, other than a human being;\\n\n",
    " '“counterfeit”. A person is said to “counterfeit” who causes one thing to\"\"\"\n",
    "print(text)"
   ]
  },
  {
   "cell_type": "code",
   "execution_count": 9,
   "id": "a53af1bc",
   "metadata": {},
   "outputs": [],
   "source": [
    "pattern =r'\\n'\n",
    "result = re.split(pattern, text)"
   ]
  },
  {
   "cell_type": "code",
   "execution_count": 10,
   "id": "a99acfcf",
   "metadata": {},
   "outputs": [
    {
     "data": {
      "text/plain": [
       "['this Sanhita unless the context otherwise requires,',\n",
       " '',\n",
       " ' \\t',\n",
       " '',\n",
       " \" '“act” as well a series of acts is a single act;\",\n",
       " '',\n",
       " \" '“animal” means any living creature, other than a human being;\",\n",
       " '',\n",
       " \" '“counterfeit”. A person is said to “counterfeit” who causes one thing to\"]"
      ]
     },
     "execution_count": 10,
     "metadata": {},
     "output_type": "execute_result"
    }
   ],
   "source": [
    "result"
   ]
  },
  {
   "cell_type": "code",
   "execution_count": 11,
   "id": "9b76b823",
   "metadata": {},
   "outputs": [
    {
     "name": "stdout",
     "output_type": "stream",
     "text": [
      "this Sanhita unless the context otherwise requires,\n",
      "\n",
      " \t\n",
      "\n",
      " '“act” as well a series of acts is a single act;\n",
      "\n",
      " '“animal” means any living creature, other than a human being;\n",
      "\n",
      " '“counterfeit”. A person is said to “counterfeit” who causes one thing to\n"
     ]
    }
   ],
   "source": [
    "for i in result:\n",
    "    print(i)\n",
    "    "
   ]
  },
  {
   "cell_type": "code",
   "execution_count": null,
   "id": "006cdb8e",
   "metadata": {},
   "outputs": [],
   "source": []
  }
 ],
 "metadata": {
  "kernelspec": {
   "display_name": ".venv",
   "language": "python",
   "name": "python3"
  },
  "language_info": {
   "codemirror_mode": {
    "name": "ipython",
    "version": 3
   },
   "file_extension": ".py",
   "mimetype": "text/x-python",
   "name": "python",
   "nbconvert_exporter": "python",
   "pygments_lexer": "ipython3",
   "version": "3.12.0"
  }
 },
 "nbformat": 4,
 "nbformat_minor": 5
}
