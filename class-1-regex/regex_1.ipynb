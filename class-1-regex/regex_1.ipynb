{
 "cells": [
  {
   "cell_type": "code",
   "execution_count": 1,
   "metadata": {},
   "outputs": [],
   "source": [
    "import re"
   ]
  },
  {
   "cell_type": "code",
   "execution_count": 2,
   "metadata": {},
   "outputs": [],
   "source": [
    "text1=\"\"\"Email: deepika.sharma12@gmail.com\n",
    "📞 Phone: +91 98765 43210\n",
    "🏠 Address: 56, MG Road, Bengaluru - 560001\"\"\"\n",
    "\n",
    "text2=\"\"\"Contact John via email: john.doe@company.co.in or call at +91-9988776655 and 011-23456789\n",
    "Address: Flat A-10, Palm Residency, Andheri West, Mumbai\n",
    "\"\"\"\n",
    "\n",
    "text3=\"\"\"Reach us at support@mybiz.net, or dial 011 23456789\n",
    "Our office is at 1st Floor, Tower 3, Cyber Hub, GurugramContact John via email: john.doe@company.co.in or call at +91-9988776655\"\"\"\n",
    "\n",
    "text4=\"\"\"Email ID: priya.rana2020@yahoo.com\n",
    "Mobile: 9123456789\n",
    "Location: 77/A Lakeview Colony, Bhopal\"\"\"\n",
    "\n",
    "text5=\"\"\"Send the package to:\n",
    "Email: ravi_k@abc.org\n",
    "Phone: 091-8899001122\n",
    "Address: 22 Park Street, Kolkata 700016\"\"\"\n",
    "\n",
    "text6=\"\"\"or further queries, contact:\n",
    "info@healthcare.ai\n",
    "+91 70123 45678\n",
    "Unit 5B, IT Park, T. Nagar, Chennai - 600017\"\"\"\n",
    "\n",
    "\n",
    "text7=\"\"\"Indian Institute of Technology Delhi\n",
    "Hauz Khas, New Delhi, Delhi 110016\n",
    "\n",
    " (011-2659-7135)  and +91-8177654321 and info@iitd.ac.in  www.iitd.ac.in\"\"\"\n"
   ]
  },
  {
   "cell_type": "code",
   "execution_count": 3,
   "metadata": {},
   "outputs": [
    {
     "name": "stdout",
     "output_type": "stream",
     "text": [
      "['9988776655']\n"
     ]
    }
   ],
   "source": [
    "pattern = r'\\d{10}'\n",
    "\n",
    "\n",
    "matches =re.findall(pattern, text2)\n",
    "print(matches)"
   ]
  },
  {
   "cell_type": "code",
   "execution_count": 4,
   "metadata": {},
   "outputs": [
    {
     "name": "stdout",
     "output_type": "stream",
     "text": [
      "['011-2659-7135', '8177654321']\n"
     ]
    }
   ],
   "source": [
    "\n",
    "pattern=r'\\d{10}|\\d{3}-\\d{4}-\\d{4}'\n",
    "\n",
    "matches =re.findall(pattern, text7)\n",
    "print(matches)"
   ]
  },
  {
   "cell_type": "code",
   "execution_count": 5,
   "metadata": {},
   "outputs": [
    {
     "name": "stdout",
     "output_type": "stream",
     "text": [
      "['info@iitd.ac.in']\n"
     ]
    }
   ],
   "source": [
    "pattern = r'[a-zA-Z_.]*@[a-zA-Z]*.[a-z]*.[a-z]*'\n",
    "matches =re.findall(pattern, text7)\n",
    "print(matches)"
   ]
  },
  {
   "cell_type": "code",
   "execution_count": 6,
   "metadata": {},
   "outputs": [
    {
     "data": {
      "text/plain": [
       "[]"
      ]
     },
     "execution_count": 6,
     "metadata": {},
     "output_type": "execute_result"
    }
   ],
   "source": [
    "re.findall(r\"Hello$\", \"Hello world\")   # []\n"
   ]
  },
  {
   "cell_type": "code",
   "execution_count": 7,
   "metadata": {},
   "outputs": [
    {
     "data": {
      "text/plain": [
       "['world']"
      ]
     },
     "execution_count": 7,
     "metadata": {},
     "output_type": "execute_result"
    }
   ],
   "source": [
    "re.findall(r\"world$\", \"Hello world\")   # []\n"
   ]
  },
  {
   "cell_type": "code",
   "execution_count": 8,
   "metadata": {},
   "outputs": [],
   "source": [
    "text =\"\"\"\n",
    "            Subject: Submission of Documents for Verification\n",
    "\n",
    "            Dear Sir/Madam,\n",
    "\n",
    "            I am writing to submit my personal details for the verification process as requested.\n",
    "\n",
    "            Name: Rahul Verma\n",
    "            Email: rahul.verma89@example.com\n",
    "            Phone: +91-9876543210\n",
    "            Address:\n",
    "            Flat No. 12B, Green Heights Apartments,\n",
    "            Sector 45, Near Metro Station,\n",
    "            Gurugram, Haryana – 122003, India\n",
    "\n",
    "            Please let me know if any further information is required.\n",
    "\n",
    "            Thank you for your assistance.\n",
    "\n",
    "            Best regards,\n",
    "            Rahul Verma\n",
    "            \n",
    "            \"\"\""
   ]
  },
  {
   "cell_type": "code",
   "execution_count": 9,
   "metadata": {},
   "outputs": [
    {
     "name": "stdout",
     "output_type": "stream",
     "text": [
      "Name\tAge\tCity\n"
     ]
    }
   ],
   "source": [
    "print(\"Name\\tAge\\tCity\")\n"
   ]
  },
  {
   "cell_type": "code",
   "execution_count": 10,
   "metadata": {},
   "outputs": [
    {
     "name": "stdout",
     "output_type": "stream",
     "text": [
      "Name\n",
      "Age\n",
      "City\n"
     ]
    }
   ],
   "source": [
    "print(\"Name\\nAge\\nCity\")"
   ]
  },
  {
   "cell_type": "code",
   "execution_count": 11,
   "metadata": {},
   "outputs": [
    {
     "name": "stdout",
     "output_type": "stream",
     "text": [
      "Name\u000bAge\u000bCity\n"
     ]
    }
   ],
   "source": [
    "print(\"Name\\vAge\\vCity\")"
   ]
  },
  {
   "cell_type": "code",
   "execution_count": 12,
   "metadata": {},
   "outputs": [
    {
     "name": "stdout",
     "output_type": "stream",
     "text": [
      "['Rahul', '25', 'Mumbai']\n"
     ]
    }
   ],
   "source": [
    "line = \"Rahul\\t25\\tMumbai\"\n",
    "fields = re.split(r'\\t', line)\n",
    "print(fields)  # ['Rahu"
   ]
  },
  {
   "cell_type": "code",
   "execution_count": null,
   "metadata": {},
   "outputs": [],
   "source": []
  },
  {
   "cell_type": "code",
   "execution_count": 15,
   "metadata": {},
   "outputs": [
    {
     "data": {
      "text/plain": [
       "['Name', 'Age', 'City']"
      ]
     },
     "execution_count": 15,
     "metadata": {},
     "output_type": "execute_result"
    }
   ],
   "source": [
    "line =\"Name\\nAge\\nCity\"\n",
    "pattern =r'\\n'\n",
    "field = re.split(pattern, line)\n",
    "field"
   ]
  },
  {
   "cell_type": "code",
   "execution_count": 38,
   "metadata": {},
   "outputs": [
    {
     "name": "stdout",
     "output_type": "stream",
     "text": [
      "['dog']\n",
      "['dogdog']\n"
     ]
    }
   ],
   "source": [
    "import re\n",
    "\n",
    "text = \"catdogdog\"\n",
    "\n",
    "pattern1=r\"(dog)+\"\n",
    "\n",
    "pattern2 =r\"(?:dog)+\"\n",
    "\n",
    "# Capturing group version\n",
    "match1 = re.findall(pattern1, text)\n",
    "print(match1)  # ['dog'] → Captures only last occurrence of 'dog'\n",
    "\n",
    "# Non-capturing group version\n",
    "match2 = re.findall(pattern2, text)\n",
    "print(match2)  # ['dogdog'] → Matches full pattern, no subgroup\n"
   ]
  },
  {
   "cell_type": "code",
   "execution_count": 17,
   "metadata": {},
   "outputs": [
    {
     "name": "stdout",
     "output_type": "stream",
     "text": [
      "Username: rohit.kumar\n",
      "Domain: example.com\n"
     ]
    }
   ],
   "source": [
    "text = \"Contact me at rohit.kumar@example.com\"\n",
    "\n",
    "pattern = r\"(?P<username>[a-zA-Z0-9._%+-]+)@(?P<domain>[a-zA-Z0-9.-]+\\.[a-zA-Z]{2,})\"\n",
    "\n",
    "match = re.search(pattern, text)\n",
    "\n",
    "if match:\n",
    "    print(\"Username:\", match.group(\"username\"))  # rohit.kumar\n",
    "    print(\"Domain:\", match.group(\"domain\"))      # example.com\n"
   ]
  },
  {
   "cell_type": "code",
   "execution_count": 40,
   "metadata": {},
   "outputs": [
    {
     "name": "stdout",
     "output_type": "stream",
     "text": [
      "Non-capturing: ['http://google.com', 'https://openai.com']\n",
      "Capturing: ['http', 'https']\n"
     ]
    }
   ],
   "source": [
    "import re\n",
    "\n",
    "text = \"Check: http://google.com and https://openai.com\"\n",
    "\n",
    "# Non-capturing\n",
    "pattern1 = r\"(?:http|https)://\\w+\\.\\w+\"\n",
    "matches1 = re.findall(pattern1, text)\n",
    "print(\"Non-capturing:\", matches1)\n",
    "\n",
    "# Capturing\n",
    "pattern2 = r\"(http|https)://\\w+\\.\\w+\"\n",
    "matches2 = re.findall(pattern2, text)\n",
    "print(\"Capturing:\", matches2)\n"
   ]
  },
  {
   "cell_type": "code",
   "execution_count": 21,
   "metadata": {},
   "outputs": [
    {
     "name": "stdout",
     "output_type": "stream",
     "text": [
      "Protocol: https\n",
      "Domain: openai.com\n"
     ]
    }
   ],
   "source": [
    "import re\n",
    "\n",
    "text = \"URL: https://openai.com\"\n",
    "\n",
    "pattern = r\"(?P<protocol>https|http)://(?P<domain>\\w+\\.\\w+)\"\n",
    "\n",
    "match = re.search(pattern, text)\n",
    "\n",
    "if match:\n",
    "    print(\"Protocol:\", match.group(\"protocol\"))  # Output: https\n",
    "    print(\"Domain:\", match.group(\"domain\"))      # Output: openai.com\n"
   ]
  },
  {
   "cell_type": "code",
   "execution_count": null,
   "metadata": {},
   "outputs": [],
   "source": []
  },
  {
   "cell_type": "markdown",
   "metadata": {},
   "source": [
    "# lookahead\n",
    "\n",
    "## Postive look ahead\n",
    "\n",
    "X(?=Y)\n",
    "\n",
    "Match X only if it is immediately followed by Y\n",
    "But do not include Y in the final match.\n",
    "\n"
   ]
  },
  {
   "cell_type": "code",
   "execution_count": 23,
   "metadata": {},
   "outputs": [
    {
     "name": "stdout",
     "output_type": "stream",
     "text": [
      "['hello']\n"
     ]
    }
   ],
   "source": [
    "import re\n",
    "\n",
    "text = \"hello123 bipi456 mans789\"\n",
    "\n",
    "pattern = r\"hello(?=\\d{3})\"\n",
    "\n",
    "matches = re.findall(pattern, text)\n",
    "print(matches)"
   ]
  },
  {
   "cell_type": "code",
   "execution_count": 24,
   "metadata": {},
   "outputs": [
    {
     "name": "stdout",
     "output_type": "stream",
     "text": [
      "['google', 'facebook']\n"
     ]
    }
   ],
   "source": [
    "text = \"google.com openai.org facebook.com\"\n",
    "\n",
    "pattern = r\"\\w+(?=\\.com)\"\n",
    "\n",
    "matches = re.findall(pattern, text)\n",
    "print(matches)  # ['google', 'facebook']"
   ]
  },
  {
   "cell_type": "markdown",
   "metadata": {},
   "source": [
    "# postive Look Behind\n",
    "(?<=Y)X\n",
    "This means:\n",
    "\n",
    "Match X only if it is immediately preceded by Y\n",
    "\n",
    "Y is the lookbehind condition (not part of the match)\n",
    "\n",
    "X is the actual match\n",
    "\n"
   ]
  },
  {
   "cell_type": "code",
   "execution_count": 25,
   "metadata": {},
   "outputs": [
    {
     "name": "stdout",
     "output_type": "stream",
     "text": [
      "['500', '1200']\n"
     ]
    }
   ],
   "source": [
    "import re\n",
    "\n",
    "text = \"₹500 ₹1200 $300\"\n",
    "\n",
    "pattern = r\"(?<=₹)\\d+\"\n",
    "\n",
    "matches = re.findall(pattern, text)\n",
    "print(matches)"
   ]
  },
  {
   "cell_type": "code",
   "execution_count": 26,
   "metadata": {},
   "outputs": [
    {
     "name": "stdout",
     "output_type": "stream",
     "text": [
      "['john', 'alice']\n"
     ]
    }
   ],
   "source": [
    "text = \"Emails: @john, @alice, #bob\"\n",
    "\n",
    "pattern = r\"(?<=@)\\w+\"\n",
    "\n",
    "matches = re.findall(pattern, text)\n",
    "print(matches)"
   ]
  },
  {
   "cell_type": "markdown",
   "metadata": {},
   "source": [
    "#"
   ]
  },
  {
   "cell_type": "code",
   "execution_count": 27,
   "metadata": {},
   "outputs": [
    {
     "name": "stdout",
     "output_type": "stream",
     "text": [
      "['apple', 'apple']\n"
     ]
    }
   ],
   "source": [
    "import re\n",
    "\n",
    "text = \"apple pie, apple juice, apple\"\n",
    "\n",
    "pattern = r\"apple(?! pie)\"\n",
    "\n",
    "matches = re.findall(pattern, text)\n",
    "print(matches)"
   ]
  },
  {
   "cell_type": "code",
   "execution_count": 28,
   "metadata": {},
   "outputs": [
    {
     "name": "stdout",
     "output_type": "stream",
     "text": [
      "['googl', 'com', 'openai', 'org', 'facebook', 'net']\n"
     ]
    }
   ],
   "source": [
    "text = \"google.com openai.org facebook.net\"\n",
    "\n",
    "pattern = r\"\\w+(?!\\.com)\"\n",
    "\n",
    "matches = re.findall(pattern, text)\n",
    "print(matches)"
   ]
  },
  {
   "cell_type": "markdown",
   "metadata": {},
   "source": [
    "# Lazy"
   ]
  },
  {
   "cell_type": "code",
   "execution_count": 29,
   "metadata": {},
   "outputs": [
    {
     "name": "stdout",
     "output_type": "stream",
     "text": [
      "Greedy: ['<div>Hello</div><span>World</span>']\n",
      "Lazy: ['<div>', '</div>', '<span>', '</span>']\n"
     ]
    }
   ],
   "source": [
    "import re\n",
    "\n",
    "text = \"<div>Hello</div><span>World</span>\"\n",
    "\n",
    "# Greedy\n",
    "greedy = re.findall(r\"<.*>\", text)\n",
    "print(\"Greedy:\", greedy)  # ['<div>Hello</div><span>World</span>']\n",
    "\n",
    "# Lazy\n",
    "lazy = re.findall(r\"<.*?>\", text)\n",
    "print(\"Lazy:\", lazy)      # ['<div>', '</div>', '<span>', '</span>']\n"
   ]
  },
  {
   "cell_type": "code",
   "execution_count": 30,
   "metadata": {},
   "outputs": [
    {
     "name": "stdout",
     "output_type": "stream",
     "text": [
      "Greedy: ['<b>bold</b><i>italic</i>']\n",
      "Lazy: ['<b>', '</b>', '<i>', '</i>']\n"
     ]
    }
   ],
   "source": [
    "import re\n",
    "\n",
    "text = \"<b>bold</b><i>italic</i>\"\n",
    "\n",
    "# Greedy\n",
    "greedy = re.findall(r\"<.*>\", text)\n",
    "print(\"Greedy:\", greedy)  # ['<b>bold</b><i>italic</i>']\n",
    "\n",
    "# Lazy\n",
    "lazy = re.findall(r\"<.*?>\", text)\n",
    "print(\"Lazy:\", lazy)      # ['<b>', '</b>', '<i>', '</i>']\n"
   ]
  },
  {
   "cell_type": "code",
   "execution_count": 31,
   "metadata": {},
   "outputs": [
    {
     "name": "stdout",
     "output_type": "stream",
     "text": [
      "Greedy: ['hello\" and then \"bye']\n",
      "Lazy: ['hello', 'bye']\n"
     ]
    }
   ],
   "source": [
    "text = 'He said \"hello\" and then \"bye\".'\n",
    "\n",
    "# Greedy\n",
    "greedy = re.findall(r'\"(.*)\"', text)\n",
    "print(\"Greedy:\", greedy)  # ['hello\" and then \"bye']\n",
    "\n",
    "# Lazy\n",
    "lazy = re.findall(r'\"(.*?)\"', text)\n",
    "print(\"Lazy:\", lazy)      # ['hello', 'bye']\n"
   ]
  },
  {
   "cell_type": "code",
   "execution_count": 32,
   "metadata": {},
   "outputs": [
    {
     "name": "stdout",
     "output_type": "stream",
     "text": [
      "Greedy: ['[one] middle [two]']\n",
      "Lazy: ['[one]', '[two]']\n"
     ]
    }
   ],
   "source": [
    "text = \"Start [one] middle [two] end\"\n",
    "\n",
    "# Greedy\n",
    "greedy = re.findall(r\"\\[.*\\]\", text)\n",
    "print(\"Greedy:\", greedy)  # ['[one] middle [two]']\n",
    "\n",
    "# Lazy\n",
    "lazy = re.findall(r\"\\[.*?\\]\", text)\n",
    "print(\"Lazy:\", lazy)      # ['[one]', '[two]']"
   ]
  },
  {
   "cell_type": "code",
   "execution_count": 35,
   "metadata": {},
   "outputs": [
    {
     "name": "stdout",
     "output_type": "stream",
     "text": [
      "Greedy: aaaabaaaa\n",
      "Lazy: aaa\n"
     ]
    }
   ],
   "source": [
    "text = \"aaaabaaaac\"\n",
    "\n",
    "# Greedy\n",
    "greedy = re.search(r\"a.+a\", text)\n",
    "print(\"Greedy:\", greedy.group())  # 'aaaabaaaa'\n",
    "\n",
    "# Lazy\n",
    "lazy = re.search(r\"a.+?a\", text)\n",
    "print(\"Lazy:\", lazy.group())      # 'aaa'\n"
   ]
  },
  {
   "cell_type": "markdown",
   "metadata": {},
   "source": [
    "# Substitution"
   ]
  },
  {
   "cell_type": "code",
   "execution_count": 36,
   "metadata": {},
   "outputs": [
    {
     "name": "stdout",
     "output_type": "stream",
     "text": [
      "abc[123]xyz\n"
     ]
    }
   ],
   "source": [
    "import re\n",
    "\n",
    "text = \"abc123xyz\"\n",
    "\n",
    "# Replace digits with digits in square brackets\n",
    "result = re.sub(r\"\\d+\", r\"[\\g<0>]\", text)\n",
    "print(result)\n"
   ]
  },
  {
   "cell_type": "code",
   "execution_count": 37,
   "metadata": {},
   "outputs": [
    {
     "name": "stdout",
     "output_type": "stream",
     "text": [
      "Smith, John\n"
     ]
    }
   ],
   "source": [
    "import re\n",
    "\n",
    "text = \"John Smith\"\n",
    "\n",
    "# Swap first name and last name\n",
    "result = re.sub(r\"(\\w+)\\s+(\\w+)\", r\"\\2, \\1\", text)\n",
    "print(result)"
   ]
  },
  {
   "cell_type": "code",
   "execution_count": null,
   "metadata": {},
   "outputs": [],
   "source": []
  }
 ],
 "metadata": {
  "kernelspec": {
   "display_name": ".venv",
   "language": "python",
   "name": "python3"
  },
  "language_info": {
   "codemirror_mode": {
    "name": "ipython",
    "version": 3
   },
   "file_extension": ".py",
   "mimetype": "text/x-python",
   "name": "python",
   "nbconvert_exporter": "python",
   "pygments_lexer": "ipython3",
   "version": "3.12.0"
  }
 },
 "nbformat": 4,
 "nbformat_minor": 2
}
