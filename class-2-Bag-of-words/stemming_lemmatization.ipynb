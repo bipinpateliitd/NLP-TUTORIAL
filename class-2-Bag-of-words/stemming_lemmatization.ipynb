{
 "cells": [
  {
   "cell_type": "code",
   "execution_count": 1,
   "id": "b3aa036e",
   "metadata": {},
   "outputs": [
    {
     "name": "stdout",
     "output_type": "stream",
     "text": [
      "['play', 'play', 'player', 'love', 'happi', 'care', 'love']\n"
     ]
    }
   ],
   "source": [
    "from nltk.stem import PorterStemmer\n",
    "stemmer = PorterStemmer()\n",
    "\n",
    "words = [\"playing\", \"played\", \"player\", \"loving\", \"happiness\",\"caring\",\"loved\"]\n",
    "stems = [stemmer.stem(w) for w in words]\n",
    "\n",
    "print(stems)  # ['play', 'play', 'player', 'love', 'happi']\n"
   ]
  },
  {
   "cell_type": "code",
   "execution_count": null,
   "id": "5f482afc",
   "metadata": {},
   "outputs": [],
   "source": []
  }
 ],
 "metadata": {
  "kernelspec": {
   "display_name": ".venv",
   "language": "python",
   "name": "python3"
  },
  "language_info": {
   "codemirror_mode": {
    "name": "ipython",
    "version": 3
   },
   "file_extension": ".py",
   "mimetype": "text/x-python",
   "name": "python",
   "nbconvert_exporter": "python",
   "pygments_lexer": "ipython3",
   "version": "3.12.0"
  }
 },
 "nbformat": 4,
 "nbformat_minor": 5
}
